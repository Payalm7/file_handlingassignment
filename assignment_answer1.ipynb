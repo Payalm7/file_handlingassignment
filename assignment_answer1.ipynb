{
 "cells": [
  {
   "cell_type": "code",
   "execution_count": 27,
   "id": "a14952c3-f815-4244-aacd-68af2565bcde",
   "metadata": {},
   "outputs": [
    {
     "name": "stdin",
     "output_type": "stream",
     "text": [
      "Enter the password: password\n"
     ]
    },
    {
     "name": "stdout",
     "output_type": "stream",
     "text": [
      "access granted....\n"
     ]
    }
   ],
   "source": [
    "import os\n",
    "with open('password.txt','r') as file:\n",
    "    password=file.read()\n",
    "    user_password=input(\"Enter the password:\")\n",
    "    if user_password==password:\n",
    "        print(\"access granted....\")\n",
    "        os.startfile(\"www.google.com\")\n",
    "    else:\n",
    "        \n",
    "        print(\"wrong\")\n",
    "       \n",
    "       \n",
    "\n",
    "\n",
    "       \n",
    "\n",
    "\n",
    "    "
   ]
  },
  {
   "cell_type": "code",
   "execution_count": 51,
   "id": "5c72e700-1c03-4352-9639-3f3d3d47121c",
   "metadata": {},
   "outputs": [
    {
     "name": "stdin",
     "output_type": "stream",
     "text": [
      "enter the user name :  m\n",
      "enter the password :  m\n"
     ]
    },
    {
     "name": "stdout",
     "output_type": "stream",
     "text": [
      "username and password okay\n"
     ]
    },
    {
     "name": "stdin",
     "output_type": "stream",
     "text": [
      "enter the username:  m\n",
      "enter the passwrd m\n"
     ]
    },
    {
     "name": "stdout",
     "output_type": "stream",
     "text": [
      "Login successfull!.....opening google\n"
     ]
    }
   ],
   "source": [
    "import  os\n",
    "\n",
    "user_name='username_file.txt'\n",
    "password='password_file.txt'\n",
    "username=input(\"enter the user name : \")\n",
    "password=input(\"enter the password : \")\n",
    "with open(user_name,'w')as userfile:\n",
    "    userfile.write(password)\n",
    "with open(password,\"w\") as userpassword:\n",
    "    userpassword.write(password)\n",
    "    print(\"username and password okay\")\n",
    "with open(user_name,'r') as username_file:\n",
    "    user=username_file.read()\n",
    "with open (password,'r')as password_file:\n",
    "    password2=password_file.read()\n",
    "input_name=input(\"enter the username: \")\n",
    "input_password=input(\"enter the passwrd\")\n",
    "if input_name==user and input_password==password2:\n",
    "    print(\"Login successfull!.....opening google\")\n",
    "    os.startfile(\"www.google.com\")\n",
    "else:\n",
    "    print(\"please enter right username and password\")\n",
    "    \n"
   ]
  },
  {
   "cell_type": "code",
   "execution_count": null,
   "id": "4a2552c3-3c66-4788-985b-46be5e3d7e02",
   "metadata": {},
   "outputs": [],
   "source": []
  }
 ],
 "metadata": {
  "kernelspec": {
   "display_name": "Python 3 (ipykernel)",
   "language": "python",
   "name": "python3"
  },
  "language_info": {
   "codemirror_mode": {
    "name": "ipython",
    "version": 3
   },
   "file_extension": ".py",
   "mimetype": "text/x-python",
   "name": "python",
   "nbconvert_exporter": "python",
   "pygments_lexer": "ipython3",
   "version": "3.12.4"
  }
 },
 "nbformat": 4,
 "nbformat_minor": 5
}
